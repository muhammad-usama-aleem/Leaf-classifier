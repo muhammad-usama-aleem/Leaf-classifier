{
 "cells": [
  {
   "cell_type": "code",
   "execution_count": 1,
   "id": "9f09e8ec",
   "metadata": {
    "_cell_guid": "b1076dfc-b9ad-4769-8c92-a6c4dae69d19",
    "_uuid": "8f2839f25d086af736a60e9eeb907d3b93b6e0e5",
    "execution": {
     "iopub.execute_input": "2021-09-27T06:23:56.427188Z",
     "iopub.status.busy": "2021-09-27T06:23:56.426498Z",
     "iopub.status.idle": "2021-09-27T06:23:56.430809Z",
     "shell.execute_reply": "2021-09-27T06:23:56.430033Z",
     "shell.execute_reply.started": "2021-09-27T06:22:27.976443Z"
    },
    "papermill": {
     "duration": 0.020627,
     "end_time": "2021-09-27T06:23:56.430975",
     "exception": false,
     "start_time": "2021-09-27T06:23:56.410348",
     "status": "completed"
    },
    "tags": []
   },
   "outputs": [],
   "source": [
    "import numpy as np # linear algebra\n",
    "import pandas as pd # data processing, CSV file I/O (e.g. pd.read_csv)"
   ]
  },
  {
   "cell_type": "code",
   "execution_count": 2,
   "id": "e1f99fc0",
   "metadata": {
    "execution": {
     "iopub.execute_input": "2021-09-27T06:23:56.442055Z",
     "iopub.status.busy": "2021-09-27T06:23:56.441373Z",
     "iopub.status.idle": "2021-09-27T06:24:10.727354Z",
     "shell.execute_reply": "2021-09-27T06:24:10.726472Z",
     "shell.execute_reply.started": "2021-09-27T06:22:28.010228Z"
    },
    "papermill": {
     "duration": 14.292593,
     "end_time": "2021-09-27T06:24:10.727520",
     "exception": false,
     "start_time": "2021-09-27T06:23:56.434927",
     "status": "completed"
    },
    "tags": []
   },
   "outputs": [
    {
     "name": "stderr",
     "output_type": "stream",
     "text": [
      "2021-09-27 06:23:57.153304: W tensorflow/stream_executor/platform/default/dso_loader.cc:60] Could not load dynamic library 'libcudart.so.11.0'; dlerror: libcudart.so.11.0: cannot open shared object file: No such file or directory; LD_LIBRARY_PATH: /opt/conda/lib\n",
      "2021-09-27 06:23:57.153429: I tensorflow/stream_executor/cuda/cudart_stub.cc:29] Ignore above cudart dlerror if you do not have a GPU set up on your machine.\n"
     ]
    },
    {
     "name": "stdout",
     "output_type": "stream",
     "text": [
      "Found 3352 images belonging to 4 classes.\n",
      "Found 836 images belonging to 4 classes.\n"
     ]
    }
   ],
   "source": [
    "from tensorflow.keras.preprocessing.image import ImageDataGenerator\n",
    "from tensorflow.keras.models import Sequential\n",
    "from tensorflow.keras.layers import Conv2D, MaxPooling2D\n",
    "from tensorflow.keras.layers import Activation, Dropout, Flatten, Dense\n",
    "\n",
    "\n",
    "# loading the dataset\n",
    "image_generator = ImageDataGenerator(rescale=1/255, validation_split=0.2)    \n",
    "\n",
    "train_dataset = image_generator.flow_from_directory(batch_size=32,\n",
    "                                                 directory='../input/leaf-classification/data',\n",
    "                                                 shuffle=True,\n",
    "                                                 target_size = (64, 64), \n",
    "                                                 subset=\"training\",\n",
    "                                                 class_mode='categorical')\n",
    "\n",
    "validation_dataset = image_generator.flow_from_directory(batch_size=32,\n",
    "                                                 directory='../input/leaf-classification/data',\n",
    "                                                 shuffle=True,\n",
    "                                                 target_size = (64, 64), \n",
    "                                                 subset=\"validation\",\n",
    "                                                 class_mode='categorical')"
   ]
  },
  {
   "cell_type": "code",
   "execution_count": 3,
   "id": "24f2083c",
   "metadata": {
    "execution": {
     "iopub.execute_input": "2021-09-27T06:24:10.745517Z",
     "iopub.status.busy": "2021-09-27T06:24:10.744642Z",
     "iopub.status.idle": "2021-09-27T06:25:13.467746Z",
     "shell.execute_reply": "2021-09-27T06:25:13.467227Z",
     "shell.execute_reply.started": "2021-09-27T06:22:35.314477Z"
    },
    "papermill": {
     "duration": 62.736004,
     "end_time": "2021-09-27T06:25:13.467881",
     "exception": false,
     "start_time": "2021-09-27T06:24:10.731877",
     "status": "completed"
    },
    "tags": []
   },
   "outputs": [
    {
     "name": "stderr",
     "output_type": "stream",
     "text": [
      "2021-09-27 06:24:10.757637: I tensorflow/compiler/jit/xla_cpu_device.cc:41] Not creating XLA devices, tf_xla_enable_xla_devices not set\n",
      "2021-09-27 06:24:10.762574: W tensorflow/stream_executor/platform/default/dso_loader.cc:60] Could not load dynamic library 'libcuda.so.1'; dlerror: libcuda.so.1: cannot open shared object file: No such file or directory; LD_LIBRARY_PATH: /opt/conda/lib\n",
      "2021-09-27 06:24:10.762620: W tensorflow/stream_executor/cuda/cuda_driver.cc:326] failed call to cuInit: UNKNOWN ERROR (303)\n",
      "2021-09-27 06:24:10.762648: I tensorflow/stream_executor/cuda/cuda_diagnostics.cc:156] kernel driver does not appear to be running on this host (3c99ec5bf285): /proc/driver/nvidia/version does not exist\n",
      "2021-09-27 06:24:10.764412: I tensorflow/core/platform/cpu_feature_guard.cc:142] This TensorFlow binary is optimized with oneAPI Deep Neural Network Library (oneDNN) to use the following CPU instructions in performance-critical operations:  AVX2 FMA\n",
      "To enable them in other operations, rebuild TensorFlow with the appropriate compiler flags.\n",
      "2021-09-27 06:24:10.764807: I tensorflow/compiler/jit/xla_gpu_device.cc:99] Not creating XLA devices, tf_xla_enable_xla_devices not set\n",
      "/opt/conda/lib/python3.7/site-packages/tensorflow/python/keras/engine/training.py:1844: UserWarning: `Model.fit_generator` is deprecated and will be removed in a future version. Please use `Model.fit`, which supports generators.\n",
      "  warnings.warn('`Model.fit_generator` is deprecated and '\n",
      "2021-09-27 06:24:11.612283: I tensorflow/compiler/mlir/mlir_graph_optimization_pass.cc:116] None of the MLIR optimization passes are enabled (registered 2)\n",
      "2021-09-27 06:24:11.616665: I tensorflow/core/platform/profile_utils/cpu_utils.cc:112] CPU Frequency: 2200160000 Hz\n"
     ]
    },
    {
     "name": "stdout",
     "output_type": "stream",
     "text": [
      "Epoch 1/25\n",
      "334/334 [==============================] - 62s 181ms/step - loss: 0.6666 - accuracy: 0.7266 - val_loss: 0.3402 - val_accuracy: 0.8337\n",
      "done\n"
     ]
    }
   ],
   "source": [
    "import tensorflow\n",
    "# Part 2 - Building the CNN\n",
    "\n",
    "# Initialising the CNN\n",
    "cnn = tensorflow.keras.models.Sequential()\n",
    "\n",
    "# Step 1 - Convolution\n",
    "cnn.add(tensorflow.keras.layers.Conv2D(filters=32, kernel_size=3, padding=\"same\", activation=\"relu\", input_shape=[64, 64, 3]))\n",
    "\n",
    "# Step 2 - Pooling\n",
    "cnn.add(tensorflow.keras.layers.MaxPool2D(pool_size=2, strides=2, padding='valid'))\n",
    "\n",
    "# Adding a second convolutional layer\n",
    "cnn.add(tensorflow.keras.layers.Conv2D(filters=32, kernel_size=3, padding=\"same\", activation=\"relu\"))\n",
    "cnn.add(tensorflow.keras.layers.MaxPool2D(pool_size=2, strides=2, padding='valid'))\n",
    "\n",
    "# Step 3 - Flattening\n",
    "cnn.add(tensorflow.keras.layers.Flatten())\n",
    "\n",
    "# Step 4 - Full Connection\n",
    "cnn.add(tensorflow.keras.layers.Dense(units=128, activation='relu'))\n",
    "\n",
    "# Step 5 - Output Layer\n",
    "cnn.add(tensorflow.keras.layers.Dense(units=4, activation='sigmoid'))\n",
    "\n",
    "# Part 3 - Training the CNN\n",
    "\n",
    "# Compiling the CNN\n",
    "cnn.compile(optimizer = 'adam', loss = 'categorical_crossentropy', metrics = ['accuracy'])\n",
    "\n",
    "# Training the CNN on the Training set and evaluating it on the Test set\n",
    "cnn.fit_generator(train_dataset,\n",
    "                  steps_per_epoch = 334,\n",
    "                  epochs = 25,\n",
    "                  validation_data = validation_dataset,\n",
    "                  validation_steps = 334)\n",
    "print('done')"
   ]
  }
 ],
 "metadata": {
  "kernelspec": {
   "display_name": "Python 3",
   "language": "python",
   "name": "python3"
  },
  "language_info": {
   "codemirror_mode": {
    "name": "ipython",
    "version": 3
   },
   "file_extension": ".py",
   "mimetype": "text/x-python",
   "name": "python",
   "nbconvert_exporter": "python",
   "pygments_lexer": "ipython3",
   "version": "3.7.10"
  },
  "papermill": {
   "default_parameters": {},
   "duration": 87.757469,
   "end_time": "2021-09-27T06:25:16.804062",
   "environment_variables": {},
   "exception": null,
   "input_path": "__notebook__.ipynb",
   "output_path": "__notebook__.ipynb",
   "parameters": {},
   "start_time": "2021-09-27T06:23:49.046593",
   "version": "2.3.3"
  }
 },
 "nbformat": 4,
 "nbformat_minor": 5
}
